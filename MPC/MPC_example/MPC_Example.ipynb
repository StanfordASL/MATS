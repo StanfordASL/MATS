{
 "cells": [
  {
   "cell_type": "markdown",
   "metadata": {},
   "source": [
    "# Prediction for Control"
   ]
  },
  {
   "cell_type": "markdown",
   "metadata": {},
   "source": [
    "### Import Packages"
   ]
  },
  {
   "cell_type": "code",
   "execution_count": null,
   "metadata": {},
   "outputs": [],
   "source": [
    "using ForwardDiff\n",
    "using DelimitedFiles\n",
    "using LinearAlgebra\n",
    "using MathOptInterface\n",
    "using Parametron\n",
    "using SparseArrays\n",
    "using Plots\n",
    "using OSQP\n",
    "using PyCall\n",
    "push!(PyVector(pyimport(\"sys\").\"path\"), \"../scripts\")\n",
    "python_utils = pyimport(\"python_utils\")\n",
    "np = pyimport(\"numpy\");"
   ]
  },
  {
   "cell_type": "markdown",
   "metadata": {},
   "source": [
    "### Include Julia Scripts"
   ]
  },
  {
   "cell_type": "code",
   "execution_count": null,
   "metadata": {},
   "outputs": [],
   "source": [
    "include(\"../scripts/path_handling.jl\")\n",
    "include(\"../scripts/utils.jl\")\n",
    "include(\"../scripts/costs.jl\")\n",
    "include(\"../scripts/dynamics.jl\")\n",
    "include(\"../scripts/interface.jl\")\n",
    "include(\"../scripts/optimization_constraints.jl\")\n",
    "include(\"../scripts/mpc.jl\")\n",
    "include(\"../scripts/visualization.jl\");"
   ]
  },
  {
   "cell_type": "markdown",
   "metadata": {},
   "source": [
    "### Load Data"
   ]
  },
  {
   "cell_type": "code",
   "execution_count": null,
   "metadata": {},
   "outputs": [],
   "source": [
    "# load data\n",
    "env = python_utils.load_data_set(\"../../experiments/processed/nuScenes_val_full_doubled.pkl\");"
   ]
  },
  {
   "cell_type": "markdown",
   "metadata": {},
   "source": [
    "### Load Model and Settings"
   ]
  },
  {
   "cell_type": "code",
   "execution_count": null,
   "metadata": {},
   "outputs": [],
   "source": [
    "# load model\n",
    "model_path = \"../../experiments/nuScenes/models/models_21_Jul_2020_10_25_10_full_zeroRrows_batch8_double_fixed_a_norm\"\n",
    "mats, hyperparams = load_model(model_path, env, ts=11)\n",
    "\n",
    "# model prediction settings\n",
    "num_modes = 3\n",
    "pred_settings = PredictionSettings(mats, hyperparams, env, num_modes);"
   ]
  },
  {
   "cell_type": "markdown",
   "metadata": {},
   "source": [
    "### Scene Selection"
   ]
  },
  {
   "cell_type": "code",
   "execution_count": null,
   "metadata": {},
   "outputs": [],
   "source": [
    "# select scene\n",
    "scene_num = 24 # corresponds to 23 in python indexing\n",
    "scene = Scene(env, scene_num);"
   ]
  },
  {
   "cell_type": "markdown",
   "metadata": {},
   "source": [
    "### Initialize and Construct MPC Problem"
   ]
  },
  {
   "cell_type": "code",
   "execution_count": null,
   "metadata": {},
   "outputs": [],
   "source": [
    "if !isdir(\"data\")\n",
    "    mkdir(\"data\")\n",
    "end\n",
    "\n",
    "# select time interval\n",
    "first_ts = 3 \n",
    "last_ts = scene.timesteps;\n",
    "\n",
    "# get path data\n",
    "x_coefs_var, y_coefs_var, breaks_var = load_splines()\n",
    "path_obj = SplinePath(x_coefs_var, y_coefs_var, breaks_var)\n",
    "\n",
    "# robot initial state\n",
    "q0 = [scene.robot.x[first_ts], scene.robot.y[first_ts], scene.robot.θ[first_ts], scene.robot.v[first_ts], 0]\n",
    "q0[5] = find_best_s(q0, path_obj, enable_global_search=true)\n",
    "\n",
    "# MPC parameters, constraints and settings\n",
    "control_limits_obj = ControlLimits(.7, -.7, 4., -5., 12., 0.)\n",
    "dynamics_obj = DynamicsModel(4, 2, control_limits_obj)\n",
    "vals_obj = MPCValues(path_obj, n_modes=num_modes, N=25, k_c=4, q0=q0, n_obs=length(scene.nodes))\n",
    "\n",
    "# make first predictions for obstacle constraints\n",
    "init_node_obstacles!(scene, vals_obj)\n",
    "Aps, Bps, gps, q_pred0, nodes_present = predicted_dynamics(pred_settings, scene_num, first_ts)\n",
    "u_pred = get_recorded_robot_controls(pred_settings, scene_num, first_ts)\n",
    "q_pred = [predict_future_states(q_pred0, u_pred, Aps, Bps, gps, j) for j = 1:vals_obj.n_modes]\n",
    "update_obstacles_from_predictions!(q_pred, nodes_present, vals_obj, scene)\n",
    "\n",
    "# initial solution guess\n",
    "qs, us = initial_guess(vals_obj);"
   ]
  },
  {
   "cell_type": "code",
   "execution_count": null,
   "metadata": {},
   "outputs": [],
   "source": [
    "# construct problem\n",
    "model, params, variables, mpc_values = construct_problem(dynamics_obj, vals_obj, scene, qs, us, verbose=false);"
   ]
  },
  {
   "cell_type": "markdown",
   "metadata": {},
   "source": [
    "### Solve MPC"
   ]
  },
  {
   "cell_type": "code",
   "execution_count": null,
   "metadata": {},
   "outputs": [],
   "source": [
    "x_traj = Array{Float64,1}()\n",
    "y_traj = Array{Float64,1}()\n",
    "θ_traj = Array{Float64,1}()\n",
    "v_traj = Array{Float64,1}()\n",
    "s_traj = Array{Float64,1}()\n",
    "\n",
    "ω_traj = []\n",
    "a_traj = []\n",
    "vs_traj = []\n",
    "\n",
    "x_pred = []\n",
    "y_pred = []\n",
    "θ_pred = []\n",
    "v_pred = []\n",
    "s_pred = []\n",
    "\n",
    "ω_pred = []\n",
    "a_pred = []\n",
    "vs_pred = []\n",
    "\n",
    "agent_states = []\n",
    "\n",
    "ss =[0:0.01:138;]\n",
    "spline_idces = find_spline_interval.(ss, (path_obj,))\n",
    "x_path = spline_x.(ss, (path_obj,), spline_idces)\n",
    "y_path = spline_y.(ss, (path_obj,), spline_idces)\n",
    "\n",
    "n_iter_val = 3 # number of solve/relinearization iterations per timestep\n",
    "    \n",
    "qs = []\n",
    "us = []\n",
    "\n",
    "problem_infeasible = false\n",
    "\n",
    "if !isdir(\"figs\")\n",
    "    mkdir(\"figs\")\n",
    "end\n",
    "\n",
    "for ts = first_ts:last_ts\n",
    "    println(\"--------------------------------------------\")\n",
    "    println(\"Starting iteration \", ts - first_ts + 1, \"!\")\n",
    "    \n",
    "\n",
    "    if ts == first_ts\n",
    "        n_iter = 15\n",
    "    else\n",
    "        n_iter = n_iter_val\n",
    "    end\n",
    "\n",
    "    for j = 1:n_iter\n",
    "        solve!(model)\n",
    "        \n",
    "        println(\"Termination Status: \", terminationstatus(model))\n",
    "        println(\"Relinearization loop: \", j)\n",
    "\n",
    "        output_qs = value.(model, variables.q)\n",
    "        output_us = value.(model, variables.u)\n",
    "\n",
    "        if (sum(isnan.(output_qs)) > 0) || (sum(isnan.(output_us)) > 0)\n",
    "            println(\"Infeasible. Skipping to next iteration.\")\n",
    "            problem_infeasible = true\n",
    "            break\n",
    "        else\n",
    "            qs = output_qs\n",
    "            us = output_us\n",
    "        end    \n",
    "\n",
    "        relinearize!(mpc_values, qs, us)\n",
    "\n",
    "        flush(stdout)\n",
    "    end\n",
    "\n",
    "    if problem_infeasible\n",
    "        println(\"Coasting along previous solution.\")\n",
    "        flush(stdout)\n",
    "        problem_infeasible = false\n",
    "        qs, us = update_problem!(mpc_values, qs, us)\n",
    "\n",
    "        push!(x_traj, qs[1,1])\n",
    "        push!(y_traj, qs[2,1])\n",
    "        push!(θ_traj, qs[3,1])\n",
    "        push!(v_traj, qs[4,1])\n",
    "        push!(s_traj, qs[5,1])\n",
    "\n",
    "        push!(ω_traj, us[1,1])\n",
    "        push!(a_traj, us[2,1])\n",
    "        push!(vs_traj, us[3,1])\n",
    "\n",
    "        push!(x_pred, qs[1,:])\n",
    "        push!(y_pred, qs[2,:])\n",
    "        push!(s_pred, qs[5,:])\n",
    "\n",
    "        plot!(x_path, y_path, label=\"path\", color=:blue, legend=:topright)\n",
    "        scatter!([x_traj[ts]], [y_traj[ts]], marker=:dot, color=:black, ms=3, label=\"pos\")\n",
    "        scatter!(x_pred[ts], y_pred[ts], marker=:dot, color=:red, ms=1, label=\"pred\", dpi=300)\n",
    "\n",
    "        continue\n",
    "    end\n",
    "\n",
    "    push!(x_traj, qs[1,1])\n",
    "    push!(y_traj, qs[2,1])\n",
    "    push!(θ_traj, qs[3,1])\n",
    "    push!(v_traj, qs[4,1])\n",
    "    push!(s_traj, qs[5,1])\n",
    "\n",
    "    push!(ω_traj, us[1,1])\n",
    "    push!(a_traj, us[2,1])\n",
    "    push!(vs_traj, us[3,1])\n",
    "\n",
    "    push!(x_pred, qs[1,:])\n",
    "    push!(y_pred, qs[2,:])\n",
    "    push!(θ_pred, qs[3,:])\n",
    "    push!(v_pred, qs[4,:])\n",
    "    push!(s_pred, qs[5,:])\n",
    "    \n",
    "    push!(ω_pred, us[1,:])\n",
    "    push!(a_pred, qs[2,:])\n",
    "    push!(vs_pred, qs[3,:])\n",
    "\n",
    "    # visualization\n",
    "    plot()\n",
    "    viz_path!(x_path, y_path)\n",
    "    viz_solution!(qs, vals_obj)   \n",
    "    viz_obstacle!(vals_obj)\n",
    "    fig_settings!((x_path[1] - 100, x_path[end] + 100), (y_path[2] - 125, y_path[2] + 25))\n",
    "    savefig(\"figs/\" * string(ts - first_ts + 1) * \".png\")\n",
    "    \n",
    "    # save data\n",
    "    save_obstacle_data(ts - first_ts + 1, vals_obj)\n",
    "    if (ts - first_ts + 1) == 11\n",
    "        np.save(\"data/x_traj\", x_traj)\n",
    "        np.save(\"data/y_traj\", y_traj)\n",
    "        np.save(\"data/θ_traj\", θ_traj)\n",
    "        np.save(\"data/v_traj\", v_traj)\n",
    "        np.save(\"data/s_traj\", s_traj)\n",
    "        \n",
    "        np.save(\"data/ω_traj\", ω_traj)\n",
    "        np.save(\"data/a_traj\", a_traj)\n",
    "        np.save(\"data/vs_traj\", vs_traj)\n",
    "        \n",
    "        np.save(\"data/x_pred\", x_pred)\n",
    "        np.save(\"data/y_pred\", y_pred)\n",
    "        np.save(\"data/θ_pred\", θ_pred)\n",
    "        np.save(\"data/v_pred\", v_pred)\n",
    "        np.save(\"data/s_pred\", s_pred)\n",
    "        \n",
    "        np.save(\"data/ω_pred\", ω_pred)\n",
    "        np.save(\"data/a_pred\", a_pred)\n",
    "        np.save(\"data/vs_pred\", vs_pred)\n",
    "    end\n",
    "    \n",
    "    \n",
    "    pred_horizon = hyperparams.get(\"prediction_horizon\")\n",
    "    pred_settings.env.scenes[scene_num].robot.data.data[ts+1:ts+pred_horizon+1, 1] = qs[1, 1:pred_horizon+1]  # x \n",
    "    pred_settings.env.scenes[scene_num].robot.data.data[ts+1:ts+pred_horizon+1, 2] = qs[2, 1:pred_horizon+1]  # y\n",
    "    pred_settings.env.scenes[scene_num].robot.data.data[ts+1:ts+pred_horizon+1, 9] = qs[3, 1:pred_horizon+1]  # θ\n",
    "    pred_settings.env.scenes[scene_num].robot.data.data[ts+1:ts+pred_horizon, 10] = us[1, 1:pred_horizon]     # ω\n",
    "    pred_settings.env.scenes[scene_num].robot.data.data[ts+1:ts+pred_horizon+1, 11] = qs[4, 1:pred_horizon+1] # v\n",
    "    pred_settings.env.scenes[scene_num].robot.data.data[ts+1:ts+pred_horizon, 12] = us[2, 1:pred_horizon]     # a\n",
    "    \n",
    "    Aps, Bps, gps, q_pred0, nodes_present = predicted_dynamics(pred_settings, scene_num, ts+1)\n",
    "    \n",
    "    u_pred = us[1:2, 1:pred_horizon]' # use control from optimization solution\n",
    "    q_pred = [predict_future_states(q_pred0, u_pred, Aps, Bps, gps, j) for j = 1:vals_obj.n_modes]\n",
    "    \n",
    "    update_obstacles_from_predictions!(q_pred, nodes_present, vals_obj, scene, iter=ts-first_ts+2)\n",
    "    update_problem!(mpc_values, qs, us)\n",
    "end"
   ]
  }
 ],
 "metadata": {
  "@webio": {
   "lastCommId": null,
   "lastKernelId": null
  },
  "kernelspec": {
   "display_name": "Julia 1.2.0",
   "language": "julia",
   "name": "julia-1.2"
  },
  "language_info": {
   "file_extension": ".jl",
   "mimetype": "application/julia",
   "name": "julia",
   "version": "1.2.0"
  }
 },
 "nbformat": 4,
 "nbformat_minor": 2
}
